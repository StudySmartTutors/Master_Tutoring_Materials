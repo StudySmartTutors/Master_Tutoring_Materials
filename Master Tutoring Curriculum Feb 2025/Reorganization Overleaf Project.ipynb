{
 "cells": [
  {
   "cell_type": "code",
   "execution_count": 7,
   "id": "b52ba2a8-5f37-4afa-b70d-0eb8b6b6e2d4",
   "metadata": {},
   "outputs": [
    {
     "name": "stdout",
     "output_type": "stream",
     "text": [
      "✅ Guided Practice renaming complete! Check CHANGELOG.txt for details.\n"
     ]
    }
   ],
   "source": [
    "import os\n",
    "import re\n",
    "\n",
    "# Base directory where the curriculum is stored\n",
    "base_dir = \"/Users/juanescobar/Documents/Curriculum/Master Tutoring Curriculum Feb 2025_v3\"\n",
    "\n",
    "# Directories containing Guided Practice files\n",
    "guided_practice_folders = [\n",
    "    os.path.join(base_dir, \"Test Prep KEYS/Math Content\"),\n",
    "    os.path.join(base_dir, \"ELA Content\")\n",
    "]\n",
    "\n",
    "# Log file for tracking renames\n",
    "log_file = os.path.join(base_dir, \"CHANGELOG.txt\")\n",
    "\n",
    "# Function to standardize ELA standard notation\n",
    "def format_standard(standard):\n",
    "    # Convert \"&\" to \".\"\n",
    "    standard = standard.replace(\"&\", \".\")\n",
    "    \n",
    "    # Remove extra spaces and ensure dots between multiple parts (e.g., \"1a 1d\" → \"1a.1d\")\n",
    "    standard = re.sub(r\"(\\d+)([a-z])\\s+(\\d+)([a-z])\", r\"\\1\\2.\\3\\4\", standard)\n",
    "    \n",
    "    return standard\n",
    "\n",
    "# Renaming patterns for Guided Practice files\n",
    "rename_patterns = {\n",
    "    # Math Student Version\n",
    "    r\"^Generic\\.(\\d+)\\.(.+)\\.GL\\.tex$\": r\"GuidedPractice_Grade\\1_Math_\\2.tex\",\n",
    "\n",
    "    # Math Instructor Version\n",
    "    r\"^Generic\\.(\\d+)\\.(.+)\\.GL\\.Instructor Version\\.tex$\": r\"GuidedPractice_Grade\\1_Math_\\2_Instr.tex\",\n",
    "\n",
    "    # ELA Student Version (Fixes multi-standard notation)\n",
    "    r\"^GP (\\d+)\\.([A-Za-z0-9&\\s]+)\\.tex$\": lambda m: f\"GuidedPractice_Grade{m.group(1)}_ELA_{format_standard(m.group(2))}.tex\",\n",
    "\n",
    "    # ELA Instructor Version\n",
    "    r\"^(\\d+)([A-Za-z0-9]+) key\\.tex$\": r\"GuidedPractice_Grade\\1_ELA_\\2_Instr.tex\"\n",
    "}\n",
    "\n",
    "# Function to rename Guided Practice files\n",
    "def rename_guided_practice():\n",
    "    with open(log_file, \"a\") as log:\n",
    "        for folder in guided_practice_folders:\n",
    "            for root, _, files in os.walk(folder):\n",
    "                for file in files:\n",
    "                    old_path = os.path.join(root, file)\n",
    "                    new_filename = None\n",
    "\n",
    "                    # Apply renaming patterns\n",
    "                    for pattern, replacement in rename_patterns.items():\n",
    "                        match = re.match(pattern, file)\n",
    "                        if match:\n",
    "                            if callable(replacement):\n",
    "                                new_filename = replacement(match)\n",
    "                            else:\n",
    "                                new_filename = re.sub(pattern, replacement, file)\n",
    "                            break\n",
    "\n",
    "                    # If a rename is required, execute it\n",
    "                    if new_filename and new_filename != file:\n",
    "                        new_path = os.path.join(root, new_filename)\n",
    "                        os.rename(old_path, new_path)\n",
    "\n",
    "                        # Log the change\n",
    "                        log.write(f\"[Renamed] {old_path} → {new_path}\\n\")\n",
    "                        print(f\"Renamed: {file} → {new_filename}\")\n",
    "\n",
    "# Execute the Guided Practice renaming process\n",
    "rename_guided_practice()\n",
    "\n",
    "print(\"✅ Guided Practice renaming complete! Check CHANGELOG.txt for details.\")\n",
    "\n"
   ]
  },
  {
   "cell_type": "code",
   "execution_count": 8,
   "id": "35049f74-fcdc-4f78-9587-29ad5352c6cb",
   "metadata": {},
   "outputs": [
    {
     "ename": "NameError",
     "evalue": "name 'df' is not defined",
     "output_type": "error",
     "traceback": [
      "\u001b[0;31m---------------------------------------------------------------------------\u001b[0m",
      "\u001b[0;31mNameError\u001b[0m                                 Traceback (most recent call last)",
      "Cell \u001b[0;32mIn[8], line 40\u001b[0m\n\u001b[1;32m     35\u001b[0m df_files_needing_fix \u001b[38;5;241m=\u001b[39m pd\u001b[38;5;241m.\u001b[39mDataFrame(files_needing_fix, columns\u001b[38;5;241m=\u001b[39m[\u001b[38;5;124m\"\u001b[39m\u001b[38;5;124mFiles Needing Fix\u001b[39m\u001b[38;5;124m\"\u001b[39m])\n\u001b[1;32m     39\u001b[0m \u001b[38;5;28;01mfrom\u001b[39;00m \u001b[38;5;21;01mIPython\u001b[39;00m\u001b[38;5;21;01m.\u001b[39;00m\u001b[38;5;21;01mdisplay\u001b[39;00m \u001b[38;5;28;01mimport\u001b[39;00m display\n\u001b[0;32m---> 40\u001b[0m display(df)\n",
      "\u001b[0;31mNameError\u001b[0m: name 'df' is not defined"
     ]
    }
   ],
   "source": [
    "import re\n",
    "\n",
    "# Extracting the list of files that still need work based on inconsistencies in naming conventions\n",
    "files_needing_fix = []\n",
    "\n",
    "# Defining expected patterns for guided practice files\n",
    "expected_patterns = [\n",
    "    r\"GuidedPractice_Grade\\d+_Math_[A-Za-z0-9.,_]+\\.tex\",\n",
    "    r\"GuidedPractice_Grade\\d+_Math_[A-Za-z0-9.,_]+_Instr\\.tex\",\n",
    "    r\"GuidedPractice_Grade\\d+_ELA_[A-Za-z0-9.,_]+\\.tex\",\n",
    "    r\"GuidedPractice_Grade\\d+_ELA_[A-Za-z0-9.,_]+_Instr\\.tex\"\n",
    "]\n",
    "\n",
    "# Given raw directory output, manually extracting file names that don't fit expected naming conventions\n",
    "raw_file_list = [\n",
    "    \"GuidedPractice_Grade3_ELA_L.1a & d.tex\",\n",
    "    \"GuidedPractice_Grade3_ELA_RL.1&2.tex\",\n",
    "    \"GuidedPractice_Grade4_ELA_RI.1&2.tex\",\n",
    "    \"GuidedPractice_Grade4_ELA_RI.1&3.tex\",\n",
    "    \"GuidedPractice_Grade5_ELA_RL.1&3.tex\",\n",
    "    \"GuidedPractice_Grade6_ELA_L.1cd.tex\",\n",
    "    \"GuidedPractice_Grade6_ELA_RI.1&6.tex\",\n",
    "    \"GuidedPractice_Grade8_ELA_RI.1&3.tex\",\n",
    "    \"GuidedPractice_Grade8_ELA_L.1a.tex\",\n",
    "    \"GuidedPractice_Grade7_ELA_RL.1&3.tex\",\n",
    "]\n",
    "\n",
    "# Checking which files don't match expected patterns\n",
    "for file in raw_file_list:\n",
    "    if not any(re.match(pattern, file) for pattern in expected_patterns):\n",
    "        files_needing_fix.append(file)\n",
    "\n",
    "# Creating a DataFrame for display\n",
    "import pandas as pd\n",
    "df_files_needing_fix = pd.DataFrame(files_needing_fix, columns=[\"Files Needing Fix\"])\n",
    "\n",
    "\n",
    "\n",
    "from IPython.display import display\n",
    "display(df)\n"
   ]
  },
  {
   "cell_type": "code",
   "execution_count": 13,
   "id": "c2290b54-2a7c-402a-bf0b-6e27bdeaaef2",
   "metadata": {},
   "outputs": [
    {
     "name": "stdout",
     "output_type": "stream",
     "text": [
      "✅ Naming inconsistencies have been fixed! Check CHANGELOG.txt for details.\n"
     ]
    }
   ],
   "source": [
    "import os\n",
    "import re\n",
    "\n",
    "# Base directory where the curriculum is stored\n",
    "base_dir = \"/Users/juanescobar/Documents/Curriculum/Master Tutoring Curriculum Feb 2025\"\n",
    "\n",
    "# Directories containing Guided Practice files\n",
    "guided_practice_folders = [\n",
    "    os.path.join(base_dir, \"ELA Content\"),\n",
    "    os.path.join(base_dir, \"Test Prep KEYS/Math Content\")\n",
    "]\n",
    "\n",
    "# Log file to track renames\n",
    "log_file = os.path.join(base_dir, \"CHANGELOG.txt\")\n",
    "\n",
    "# Fix naming inconsistencies function\n",
    "def fix_naming_inconsistencies():\n",
    "    with open(log_file, \"a\") as log:\n",
    "        for folder in guided_practice_folders:\n",
    "            for root, _, files in os.walk(folder):\n",
    "                for file in files:\n",
    "                    old_path = os.path.join(root, file)\n",
    "                    new_filename = file\n",
    "                    \n",
    "                    # Replace \"&\" with \".\"\n",
    "                    new_filename = new_filename.replace(\"&\", \".\")\n",
    "                    \n",
    "                    # Remove spaces\n",
    "                    new_filename = new_filename.replace(\" \", \"\")\n",
    "\n",
    "                    # Fix multiple references (e.g., RI.1&2 → RI.1.2)\n",
    "                    new_filename = re.sub(r'(\\d+)[.](\\d+)[.](\\d+)', r'\\1.\\2.\\3', new_filename)\n",
    "\n",
    "                    # If filename changed, rename it\n",
    "                    if new_filename != file:\n",
    "                        new_path = os.path.join(root, new_filename)\n",
    "                        os.rename(old_path, new_path)\n",
    "\n",
    "                        # Log the change\n",
    "                        log.write(f\"[Fixed] {old_path} → {new_path}\\n\")\n",
    "                        print(f\"Renamed: {file} → {new_filename}\")\n",
    "\n",
    "# Run the function\n",
    "fix_naming_inconsistencies()\n",
    "\n",
    "print(\"✅ Naming inconsistencies have been fixed! Check CHANGELOG.txt for details.\")\n"
   ]
  },
  {
   "cell_type": "code",
   "execution_count": null,
   "id": "a33cb7e7-ed68-4d71-846e-46b8d9394738",
   "metadata": {},
   "outputs": [],
   "source": []
  },
  {
   "cell_type": "code",
   "execution_count": null,
   "id": "42df4461-b180-47f3-a2d5-d895cd665f79",
   "metadata": {},
   "outputs": [],
   "source": []
  },
  {
   "cell_type": "code",
   "execution_count": null,
   "id": "cf045ef7-7333-4665-904f-2b646a0423ff",
   "metadata": {},
   "outputs": [],
   "source": []
  },
  {
   "cell_type": "code",
   "execution_count": null,
   "id": "498bf03d-f7af-403a-baca-f732b673c564",
   "metadata": {},
   "outputs": [],
   "source": []
  },
  {
   "cell_type": "code",
   "execution_count": null,
   "id": "c4336b14-aebc-423c-b937-02660c0e2a2e",
   "metadata": {},
   "outputs": [],
   "source": []
  },
  {
   "cell_type": "code",
   "execution_count": null,
   "id": "9e3c1be1-3145-4759-aaaa-5c094a938470",
   "metadata": {},
   "outputs": [],
   "source": []
  },
  {
   "cell_type": "code",
   "execution_count": null,
   "id": "128b8845-1f3f-465f-ad56-0252e9abfdc0",
   "metadata": {},
   "outputs": [],
   "source": []
  },
  {
   "cell_type": "code",
   "execution_count": null,
   "id": "855b1b87-d601-482c-8de4-c52341c117a8",
   "metadata": {},
   "outputs": [],
   "source": []
  },
  {
   "cell_type": "code",
   "execution_count": null,
   "id": "ba3deb13-dd98-451c-9515-2af567eae9ab",
   "metadata": {},
   "outputs": [],
   "source": []
  },
  {
   "cell_type": "code",
   "execution_count": null,
   "id": "36443088-4bd5-4576-8fc6-45a0fbe7b70e",
   "metadata": {},
   "outputs": [],
   "source": []
  }
 ],
 "metadata": {
  "kernelspec": {
   "display_name": "Python [conda env:base] *",
   "language": "python",
   "name": "conda-base-py"
  },
  "language_info": {
   "codemirror_mode": {
    "name": "ipython",
    "version": 3
   },
   "file_extension": ".py",
   "mimetype": "text/x-python",
   "name": "python",
   "nbconvert_exporter": "python",
   "pygments_lexer": "ipython3",
   "version": "3.12.7"
  }
 },
 "nbformat": 4,
 "nbformat_minor": 5
}
