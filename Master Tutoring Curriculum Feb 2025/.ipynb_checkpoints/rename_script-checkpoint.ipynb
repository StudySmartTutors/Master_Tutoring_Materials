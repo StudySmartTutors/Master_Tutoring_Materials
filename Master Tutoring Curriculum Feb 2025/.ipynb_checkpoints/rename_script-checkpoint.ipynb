{
 "cells": [
  {
   "cell_type": "code",
   "execution_count": 49,
   "id": "2eeaaffb-c2d0-4e1b-b3c0-6c57eaa6e4ec",
   "metadata": {},
   "outputs": [
    {
     "name": "stdout",
     "output_type": "stream",
     "text": [
      "✅ Manual Renaming Complete!\n"
     ]
    }
   ],
   "source": [
    "import os\n",
    "\n",
    "# Define a mapping of filenames to their correct Common Core standards\n",
    "standard_mappings = {\n",
    "    \"GP 3.L.1a & d.tex\": [\"3.L.1a\", \"3.L.1d\"],  \n",
    "    \"3L1a&d key.tex\": [\"3.L.1a\", \"3.L.1d\"],  \n",
    "    \"Generic.3.NF.A.1.GL.tex\": [\"3.NF.A.1\"],\n",
    "    \"Generic.3.NF.A.1.GL.Instructor Version.tex\": [\"3.NF.A.1\"]\n",
    "}\n",
    "\n",
    "# Define the test directory\n",
    "test_dir = \"/Users/juanescobar/Documents/Curriculum/test_guided_practice\"\n",
    "\n",
    "# Function to rename files using predefined standard mappings\n",
    "def rename_files_manually():\n",
    "    for file in os.listdir(test_dir):\n",
    "        old_path = os.path.join(test_dir, file)\n",
    "\n",
    "        if file in standard_mappings:\n",
    "            # Format standards correctly\n",
    "            standards = \"_\".join([f\"({s})\" for s in standard_mappings[file]])  # Ensure all standards are enclosed\n",
    "\n",
    "            # Determine if it's an instructor or student version\n",
    "            if \"key\" in file or \"Instructor Version\" in file:\n",
    "                new_filename = f\"GuidedLesson_Grade3_ELA_{standards}_Instr.tex\"\n",
    "            else:\n",
    "                new_filename = f\"GuidedLesson_Grade3_ELA_{standards}.tex\"\n",
    "\n",
    "            new_path = os.path.join(test_dir, new_filename)\n",
    "\n",
    "            # Debugging output\n",
    "            print(f\"📌 DEBUG: {file} → Extracted Standards: {standard_mappings[file]} → Formatted as: {standards} → Final Name: {new_filename}\")\n",
    "\n",
    "            os.rename(old_path, new_path)\n",
    "            print(f\"✅ Renamed: {file} → {new_filename}\")\n",
    "\n",
    "# Run the renaming function\n",
    "rename_files_manually()\n",
    "print(\"✅ Manual Renaming Complete!\")\n",
    "\n"
   ]
  },
  {
   "cell_type": "code",
   "execution_count": null,
   "id": "d62133cf-77d4-4380-bd05-8c2164a2798f",
   "metadata": {},
   "outputs": [],
   "source": []
  },
  {
   "cell_type": "code",
   "execution_count": null,
   "id": "8e88e5ad-f4fb-4de5-8332-1124ff612077",
   "metadata": {},
   "outputs": [],
   "source": []
  },
  {
   "cell_type": "code",
   "execution_count": 21,
   "id": "56f02ab0-13a1-46dc-af84-27fde1a01f2d",
   "metadata": {},
   "outputs": [
    {
     "name": "stdout",
     "output_type": "stream",
     "text": [
      "✅ Phase 1: Underscore Conversion Complete!\n"
     ]
    }
   ],
   "source": [
    "\n"
   ]
  },
  {
   "cell_type": "code",
   "execution_count": null,
   "id": "a3dec2d4-c3b6-43a3-a9d8-bcc2ef495cbd",
   "metadata": {},
   "outputs": [],
   "source": []
  },
  {
   "cell_type": "code",
   "execution_count": null,
   "id": "b9a06e5d-ed5f-4151-87ec-56708d02e6d4",
   "metadata": {},
   "outputs": [],
   "source": []
  },
  {
   "cell_type": "code",
   "execution_count": null,
   "id": "2efb00d1-a438-4b2c-8444-3e1b3db65a23",
   "metadata": {},
   "outputs": [],
   "source": []
  },
  {
   "cell_type": "code",
   "execution_count": null,
   "id": "1407c295-2c9e-49b2-8244-733650530820",
   "metadata": {},
   "outputs": [],
   "source": []
  },
  {
   "cell_type": "code",
   "execution_count": null,
   "id": "3f0c41a4-c202-4e5a-bc4d-2fa7869ed2b4",
   "metadata": {},
   "outputs": [],
   "source": []
  },
  {
   "cell_type": "code",
   "execution_count": null,
   "id": "0ce684f7-c36f-425a-9025-cd9162912088",
   "metadata": {},
   "outputs": [],
   "source": []
  }
 ],
 "metadata": {
  "kernelspec": {
   "display_name": "Python [conda env:base] *",
   "language": "python",
   "name": "conda-base-py"
  },
  "language_info": {
   "codemirror_mode": {
    "name": "ipython",
    "version": 3
   },
   "file_extension": ".py",
   "mimetype": "text/x-python",
   "name": "python",
   "nbconvert_exporter": "python",
   "pygments_lexer": "ipython3",
   "version": "3.12.7"
  }
 },
 "nbformat": 4,
 "nbformat_minor": 5
}
