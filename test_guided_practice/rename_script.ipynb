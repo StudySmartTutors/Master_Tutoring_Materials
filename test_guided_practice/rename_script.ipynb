{
 "cells": [
  {
   "cell_type": "code",
   "execution_count": 25,
   "id": "2eeaaffb-c2d0-4e1b-b3c0-6c57eaa6e4ec",
   "metadata": {},
   "outputs": [
    {
     "name": "stdout",
     "output_type": "stream",
     "text": [
      "✅ Phase 1: Underscore Conversion Complete!\n"
     ]
    }
   ],
   "source": [
    "import os\n",
    "import re\n",
    "\n",
    "# Set the test directory path\n",
    "test_dir = \"/Users/juanescobar/Documents/Curriculum/test_guided_practice\"\n",
    "\n",
    "# Function to convert spaces and special characters to underscores, ensuring grade numbers are kept\n",
    "def format_underscores(grade, standard):\n",
    "    # Replace spaces and '&' with underscores\n",
    "    standard = standard.replace(\" \", \"_\").replace(\"&\", \"_\")\n",
    "    \n",
    "    # Extract multiple standards and ensure grade number is prefixed to each\n",
    "    standards = re.findall(r\"[A-Za-z]*\\.?\\d+[A-Za-z0-9.]*\", standard)\n",
    "\n",
    "    # Debugging: Print extracted standards\n",
    "    print(f\"📌 Extracted from '{standard}': {standards}\")\n",
    "\n",
    "    formatted_standards = \"_\".join([f\"{grade}.{s}\" for s in standards])\n",
    "    \n",
    "    return formatted_standards\n",
    "\n",
    "# Define renaming patterns for Phase 1 (underscore conversion)\n",
    "rename_patterns = {\n",
    "    # Math Student Version\n",
    "    r\"^Generic\\.(\\d+)\\.(.+)\\.GL\\.tex$\": lambda m: f\"GuidedLesson_Grade{m.group(1)}_Math_{m.group(1)}.{m.group(2)}.tex\",\n",
    "\n",
    "    # Math Instructor Version\n",
    "    r\"^Generic\\.(\\d+)\\.(.+)\\.GL\\.Instructor Version\\.tex$\": lambda m: f\"GuidedLesson_Grade{m.group(1)}_Math_{m.group(1)}.{m.group(2)}_Instr.tex\",\n",
    "\n",
    "    # ELA Student Version (fixing multiple standards issue, ensuring proper '&' detection)\n",
    "    r\"^GP (\\d+)\\.([A-Za-z0-9\\s&.]+)\\.tex$\": lambda m: f\"GuidedLesson_Grade{m.group(1)}_ELA_{format_underscores(m.group(1), m.group(2))}.tex\",\n",
    "\n",
    "    # ELA Instructor Version (ensuring correct standard format, fixing standard parsing)\n",
    "    r\"^(\\d+)([A-Za-z0-9\\s&.]+) key\\.tex$\": lambda m: f\"GuidedLesson_Grade{m.group(1)}_ELA_{format_underscores(m.group(1), m.group(2))}_Instr.tex\"\n",
    "}\n",
    "\n",
    "# Function to rename files (Phase 1 - Underscore conversion only)\n",
    "def rename_guided_practice():\n",
    "    for file in os.listdir(test_dir):\n",
    "        old_path = os.path.join(test_dir, file)\n",
    "        new_filename = None\n",
    "\n",
    "        # Apply renaming rules\n",
    "        for pattern, replacement in rename_patterns.items():\n",
    "            match = re.match(pattern, file)\n",
    "            if match:\n",
    "                new_filename = replacement(match)\n",
    "                break\n",
    "\n",
    "        # Debugging: Print before renaming\n",
    "        if new_filename:\n",
    "            print(f\"🔄 Attempting to rename: {file} → {new_filename}\")\n",
    "\n",
    "        # If a new name was generated, rename the file\n",
    "        if new_filename and new_filename != file:\n",
    "            new_path = os.path.join(test_dir, new_filename)\n",
    "            os.rename(old_path, new_path)\n",
    "            print(f\"✅ Renamed: {file} → {new_filename}\")\n",
    "\n",
    "# Run the renaming function for Phase 1\n",
    "rename_guided_practice()\n",
    "\n",
    "print(\"✅ Phase 1: Underscore Conversion Complete!\")\n",
    "\n"
   ]
  },
  {
   "cell_type": "code",
   "execution_count": 21,
   "id": "56f02ab0-13a1-46dc-af84-27fde1a01f2d",
   "metadata": {},
   "outputs": [
    {
     "name": "stdout",
     "output_type": "stream",
     "text": [
      "✅ Phase 1: Underscore Conversion Complete!\n"
     ]
    }
   ],
   "source": [
    "\n"
   ]
  },
  {
   "cell_type": "code",
   "execution_count": null,
   "id": "a3dec2d4-c3b6-43a3-a9d8-bcc2ef495cbd",
   "metadata": {},
   "outputs": [],
   "source": []
  },
  {
   "cell_type": "code",
   "execution_count": null,
   "id": "b9a06e5d-ed5f-4151-87ec-56708d02e6d4",
   "metadata": {},
   "outputs": [],
   "source": []
  },
  {
   "cell_type": "code",
   "execution_count": null,
   "id": "2efb00d1-a438-4b2c-8444-3e1b3db65a23",
   "metadata": {},
   "outputs": [],
   "source": []
  },
  {
   "cell_type": "code",
   "execution_count": null,
   "id": "1407c295-2c9e-49b2-8244-733650530820",
   "metadata": {},
   "outputs": [],
   "source": []
  },
  {
   "cell_type": "code",
   "execution_count": null,
   "id": "3f0c41a4-c202-4e5a-bc4d-2fa7869ed2b4",
   "metadata": {},
   "outputs": [],
   "source": []
  },
  {
   "cell_type": "code",
   "execution_count": null,
   "id": "0ce684f7-c36f-425a-9025-cd9162912088",
   "metadata": {},
   "outputs": [],
   "source": []
  }
 ],
 "metadata": {
  "kernelspec": {
   "display_name": "Python [conda env:base] *",
   "language": "python",
   "name": "conda-base-py"
  },
  "language_info": {
   "codemirror_mode": {
    "name": "ipython",
    "version": 3
   },
   "file_extension": ".py",
   "mimetype": "text/x-python",
   "name": "python",
   "nbconvert_exporter": "python",
   "pygments_lexer": "ipython3",
   "version": "3.12.7"
  }
 },
 "nbformat": 4,
 "nbformat_minor": 5
}
